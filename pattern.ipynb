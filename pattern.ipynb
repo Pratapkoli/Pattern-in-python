{
 "cells": [
  {
   "cell_type": "code",
   "execution_count": 25,
   "id": "4b1c2fb5",
   "metadata": {},
   "outputs": [
    {
     "name": "stdout",
     "output_type": "stream",
     "text": [
      " *\n",
      " * *\n",
      " * * *\n",
      " * * * *\n",
      " * * * * *\n"
     ]
    }
   ],
   "source": [
    "#Nested loop\n",
    "for i in range(1,6,1):\n",
    "    for j in range(1,i+1,1):\n",
    "        print(\" *\",end='')\n",
    "    print(\"\")"
   ]
  },
  {
   "cell_type": "code",
   "execution_count": 41,
   "id": "aee22c33",
   "metadata": {},
   "outputs": [
    {
     "name": "stdout",
     "output_type": "stream",
     "text": [
      "        *  \n",
      "      * *  \n",
      "    * * *  \n",
      "  * * * *  \n",
      "* * * * *  \n"
     ]
    }
   ],
   "source": [
    "for i in range(1,6,1):\n",
    "    \n",
    "    for k in range(1,(5-i)+1,1):\n",
    "        print(\" \",end=' ')\n",
    "        \n",
    "    for j in range(1,i+1,1):\n",
    "        print(\"*\",end=' ')\n",
    "        \n",
    "    print(\" \")"
   ]
  },
  {
   "cell_type": "code",
   "execution_count": 53,
   "id": "9c62b098",
   "metadata": {},
   "outputs": [
    {
     "name": "stdout",
     "output_type": "stream",
     "text": [
      "    * \n",
      "   * * \n",
      "  * * * \n",
      " * * * * \n",
      "* * * * * \n"
     ]
    }
   ],
   "source": [
    "for i in range(1,6,1):\n",
    "    \n",
    "    for k in range(1,(5-i)+1,1):\n",
    "        print(\"\",end='')\n",
    "        \n",
    "    for j in range(1,i+1,1):\n",
    "        print(\"* \",end=' ')\n",
    "        \n",
    "    print(\"\")"
   ]
  },
  {
   "cell_type": "code",
   "execution_count": 55,
   "id": "b5eb75eb",
   "metadata": {},
   "outputs": [
    {
     "name": "stdout",
     "output_type": "stream",
     "text": [
      " * * * * \n",
      "  * * * \n",
      "   * * \n",
      "    * \n",
      "     \n"
     ]
    }
   ],
   "source": [
    "for i in range(1,6,1):\n",
    "    \n",
    "    for k in range(1,i+1,1):\n",
    "        print(\" \",end='')\n",
    "        \n",
    "    for j in range(1,(5-i)+1,1):\n",
    "        print(\"*\",end=' ')\n",
    "        \n",
    "    print(\"\")"
   ]
  },
  {
   "cell_type": "code",
   "execution_count": 57,
   "id": "1e74cdfe",
   "metadata": {},
   "outputs": [
    {
     "name": "stdout",
     "output_type": "stream",
     "text": [
      "    * \n",
      "   * * \n",
      "  * * * \n",
      " * * * * \n",
      "* * * * * \n",
      " * * * * \n",
      "  * * * \n",
      "   * * \n",
      "    * \n",
      "     \n"
     ]
    }
   ],
   "source": [
    "for i in range(1,6,1):\n",
    "    \n",
    "    for k in range(1,(5-i)+1,1):\n",
    "        print(\" \",end='')\n",
    "        \n",
    "    for j in range(1,i+1,1):\n",
    "        print(\"*\",end=' ')\n",
    "        \n",
    "    print(\"\")\n",
    "    \n",
    "for i in range(1,6,1):\n",
    "    \n",
    "    for k in range(1,i+1,1):\n",
    "        print(\" \",end='')\n",
    "        \n",
    "    for j in range(1,(5-i)+1,1):\n",
    "        print(\"*\",end=' ')\n",
    "        \n",
    "    print(\"\")"
   ]
  },
  {
   "cell_type": "code",
   "execution_count": 62,
   "id": "c35d74dc",
   "metadata": {},
   "outputs": [
    {
     "name": "stdout",
     "output_type": "stream",
     "text": [
      "\n",
      "\n",
      "1\n",
      "2\n",
      "3\n",
      "4\n",
      "\n",
      "\n",
      "1\n",
      "2\n",
      "3\n",
      "4\n",
      "\n",
      "\n",
      "1\n",
      "2\n",
      "3\n",
      "4\n",
      "\n",
      "\n",
      "1\n",
      "2\n",
      "3\n",
      "4\n"
     ]
    }
   ],
   "source": [
    "i=1\n",
    "while i<5:\n",
    "    print(\"\\n\")\n",
    "    j=1\n",
    "    while j<5:\n",
    "        print(j)\n",
    "        j=j+1\n",
    "    i=i+1"
   ]
  },
  {
   "cell_type": "code",
   "execution_count": 61,
   "id": "8e296e5f",
   "metadata": {},
   "outputs": [
    {
     "name": "stdout",
     "output_type": "stream",
     "text": [
      "\n",
      "\n",
      "1 1\n",
      "1 2\n",
      "1 3\n",
      "\n",
      "\n",
      "2 1\n",
      "2 2\n",
      "2 3\n",
      "\n",
      "\n",
      "3 1\n",
      "3 2\n",
      "3 3\n"
     ]
    }
   ],
   "source": [
    "for i in range(1,4,1):\n",
    "    print(\"\\n\")\n",
    "    for j in range(1,4,1):\n",
    "        print(i,j)"
   ]
  },
  {
   "cell_type": "code",
   "execution_count": 2,
   "id": "222c010b",
   "metadata": {},
   "outputs": [
    {
     "name": "stdout",
     "output_type": "stream",
     "text": [
      "1 \n",
      "23 \n",
      "456 \n",
      "78910 \n",
      "1112131415 \n"
     ]
    }
   ],
   "source": [
    "count = 1\n",
    "\n",
    "for i in range(1,6,1):\n",
    "    \n",
    "    for j in range(1,i+1,1):\n",
    "        print(count , end='')\n",
    "        count=count+1\n",
    "    print(\" \")"
   ]
  },
  {
   "cell_type": "code",
   "execution_count": 10,
   "id": "ecd0a817",
   "metadata": {},
   "outputs": [
    {
     "name": "stdout",
     "output_type": "stream",
     "text": [
      "0  \n",
      "* *  \n",
      "0 0 0  \n",
      "* * * *  \n",
      "0 0 0 0 0  \n"
     ]
    }
   ],
   "source": [
    "for i in range(1,6,1):\n",
    "    for j in range(1,i+1,1):\n",
    "        if i%2==0:\n",
    "            print(\"* \",end='')\n",
    "        else:\n",
    "            print(\"0 \",end='')\n",
    "    print(\" \")"
   ]
  },
  {
   "cell_type": "code",
   "execution_count": 22,
   "id": "7eb5d446",
   "metadata": {},
   "outputs": [
    {
     "name": "stdout",
     "output_type": "stream",
     "text": [
      "*  *  *  *   \n",
      "*  *  *   \n",
      "*  *   \n",
      "*   \n",
      " \n"
     ]
    }
   ],
   "source": [
    "for i in range(1,6,1):\n",
    "    \n",
    "    for k in range(1,i+1,1):\n",
    "        print(\"\",end='')\n",
    "        \n",
    "    for j in range(1,(5-i)+1,1):\n",
    "        print(\"* \",end=' ')\n",
    "        \n",
    "    print(\" \")"
   ]
  },
  {
   "cell_type": "code",
   "execution_count": 23,
   "id": "77ef95c8",
   "metadata": {},
   "outputs": [
    {
     "name": "stdout",
     "output_type": "stream",
     "text": [
      "  * * * *  \n",
      "    * * *  \n",
      "      * *  \n",
      "        *  \n",
      "           \n"
     ]
    }
   ],
   "source": [
    "for i in range(1,6,1):\n",
    "    \n",
    "    for k in range(1,i+1,1):\n",
    "        print(\" \",end=' ')\n",
    "        \n",
    "    for j in range(1,(5-i)+1,1):\n",
    "        print(\"*\",end=' ')\n",
    "        \n",
    "    print(\" \")"
   ]
  },
  {
   "cell_type": "code",
   "execution_count": 12,
   "id": "655db4d4",
   "metadata": {},
   "outputs": [
    {
     "name": "stdout",
     "output_type": "stream",
     "text": [
      "   1  \n",
      "  1 2 1  \n",
      " 1 2 3 2 1  \n",
      "1 2 3 4 3 2 1  \n"
     ]
    }
   ],
   "source": [
    "for i in range(1,5):\n",
    "    \n",
    "    for k in range(1,5-i):\n",
    "        print(\" \" ,end='')\n",
    "    \n",
    "    for p in range(1,i+1):\n",
    "        print(p ,end=' ')\n",
    "        \n",
    "    for j in range(1,i):\n",
    "        print(i-j,end=' ')\n",
    "        \n",
    "    print(\" \")"
   ]
  },
  {
   "cell_type": "code",
   "execution_count": 34,
   "id": "f6023b9c",
   "metadata": {},
   "outputs": [
    {
     "name": "stdout",
     "output_type": "stream",
     "text": [
      "     1\n",
      "    21\n",
      "   321\n",
      "  4321\n",
      " 54321\n"
     ]
    }
   ],
   "source": [
    "rows = 4\n",
    "\n",
    "for i in range(1, 6 1):\n",
    "    for j in range(rows, 0, -1):\n",
    "        if j > i:\n",
    "            print(\" \", end=\"\")\n",
    "        else:\n",
    "            print(j, end=\"\")\n",
    "\n",
    "    print()"
   ]
  },
  {
   "cell_type": "code",
   "execution_count": 42,
   "id": "9f3afba6",
   "metadata": {},
   "outputs": [
    {
     "name": "stdout",
     "output_type": "stream",
     "text": [
      "1\n",
      "22\n",
      "333\n",
      "4444\n",
      "55555\n",
      "     1\n",
      "    21\n",
      "   321\n",
      "  4321\n",
      " 54321\n"
     ]
    }
   ],
   "source": [
    "\n",
    "for i in range(1, 6):\n",
    "    for j in range(6 - i):\n",
    "        print(\"\", end=\"\")\n",
    "    for k in range(1, i + 1):\n",
    "        print(i, end=\"\")\n",
    "    print()\n",
    "for i in range(1, 6, 1):\n",
    "    for j in range(6, 0, -1):\n",
    "        if j > i:\n",
    "            print(\" \", end=\"\")\n",
    "        else:\n",
    "            print(j, end=\"\")\n",
    "\n",
    "    print()    "
   ]
  },
  {
   "cell_type": "code",
   "execution_count": null,
   "id": "cf2c48a1",
   "metadata": {},
   "outputs": [],
   "source": []
  }
 ],
 "metadata": {
  "kernelspec": {
   "display_name": "Python 3 (ipykernel)",
   "language": "python",
   "name": "python3"
  },
  "language_info": {
   "codemirror_mode": {
    "name": "ipython",
    "version": 3
   },
   "file_extension": ".py",
   "mimetype": "text/x-python",
   "name": "python",
   "nbconvert_exporter": "python",
   "pygments_lexer": "ipython3",
   "version": "3.11.5"
  }
 },
 "nbformat": 4,
 "nbformat_minor": 5
}
